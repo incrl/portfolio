{
 "cells": [
  {
   "cell_type": "markdown",
   "metadata": {
    "collapsed": true
   },
   "source": [
    "# Fourier Analysis Lab\n",
    "All  of  the  programming  assignments  are  to  be  done  in  Python  using  additional  libraries  specified  in  the  assignments.  There  are many  libraries  available,  some  of  which  we  will  be  using,  and  you  are  welcome  to  use  them  with  one  exception:  if  the  library  or  a  function  within  it  performs  the  specific  function  you  are  asked  to  code,  you  may  not  use  that  other  than  perhaps  as  a  reference  to  compare  against. All  of  the  code  you  submit  must  be  your  own. You are welcome to turn in a completed jupyter notebook."
   ]
  },
  {
   "cell_type": "markdown",
   "metadata": {},
   "source": [
    "## The Basics\n",
    "\n",
    "We have discussed the Fourier Transform in great detail in class. In this lab, we will implement many of the practical applications of the Fourier Transform. In order to do this, we need to know how the Fourier Transform is implemented in the Numpy library.\n",
    "\n",
    "The following code can be used to perform the Fourier Transform and Inverse Fourier Transform."
   ]
  },
  {
   "cell_type": "code",
   "execution_count": null,
   "metadata": {},
   "outputs": [],
   "source": [
    "import numpy as np\n",
    "import matplotlib.pyplot as plt\n",
    "\n",
    "#Initialize Data\n",
    "data = np.zeros(300)\n",
    "data[125:175] = 1\n",
    "plt.plot(data);plt.title(\"Spatial Function\");plt.show()\n",
    "\n",
    "#Peform Fourier Transform\n",
    "fourier = np.fft.fft(data)\n",
    "#Plot the complex magnitude of the fourier transform\n",
    "plt.plot(np.absolute(fourier));plt.title(\"Frequency Function\");plt.show()\n",
    "\n",
    "#Perform Inverse Fourier Transform\n",
    "original = np.fft.ifft(fourier)\n",
    "original = np.absolute(original)\n",
    "plt.plot(original);plt.title(\"Back to Spatial\");plt.show()"
   ]
  },
  {
   "cell_type": "markdown",
   "metadata": {},
   "source": [
    "This is a very simple way to access and manipulate the fourier transform. Note that the frequency function defaults to the non centralized version for calculation. For visualization, you may choose to plot a centralized frequency function."
   ]
  },
  {
   "cell_type": "code",
   "execution_count": null,
   "metadata": {},
   "outputs": [],
   "source": [
    "#Centralize the plot\n",
    "N = len(fourier)\n",
    "xvals = range(int(-N/2+1),int(N/2+1))\n",
    "\n",
    "#Take the second half of the data, reverse and append it to the front\n",
    "result = np.fft.fftshift(fourier)\n",
    "\n",
    "plt.plot(xvals,np.absolute(result));plt.title(\"Centralized Fourier\");plt.show()"
   ]
  },
  {
   "cell_type": "markdown",
   "metadata": {},
   "source": [
    "You can also easily perform the fourier transform on a two dimensional set of data as well. This will be very helpful for doing transforms on our images."
   ]
  },
  {
   "cell_type": "code",
   "execution_count": null,
   "metadata": {},
   "outputs": [],
   "source": [
    "#Initialize Data\n",
    "data2 = np.zeros((300,300))\n",
    "data2[140:160,130:170] = 1\n",
    "plt.imshow(data2,cmap=\"gray\",interpolation=\"none\");plt.title(\"Spatial Function\");plt.show()\n",
    "\n",
    "#Peform Fourier Transform\n",
    "fourier2 = np.fft.fft2(data2)\n",
    "#Plot the complex magnitude of the fourier transform\n",
    "plt.imshow(np.absolute(fourier2),cmap=\"gray\",interpolation=\"none\");plt.title(\"Frequency Function\");plt.show()\n",
    "\n",
    "#Perform Inverse Fourier Transform\n",
    "original2 = np.fft.ifft2(fourier2)\n",
    "original2 = np.absolute(original2)\n",
    "plt.imshow(original2,cmap=\"gray\",interpolation=\"none\");plt.title(\"Back to Spatial\");plt.show()"
   ]
  },
  {
   "cell_type": "markdown",
   "metadata": {},
   "source": [
    "Again, you may also choose to centralize the fourier transform in 2D."
   ]
  },
  {
   "cell_type": "code",
   "execution_count": null,
   "metadata": {},
   "outputs": [],
   "source": [
    "#Centralize the plot\n",
    "M,N = np.shape(fourier2)\n",
    "xvals = range(int(-N/2+1),int(N/2+1))\n",
    "yvals = range(int(-M/2+1),int(M/2+1))\n",
    "\n",
    "result2 = np.fft.fftshift(fourier2)\n",
    "\n",
    "plt.imshow(np.absolute(result2),cmap=\"gray\",interpolation=\"none\",extent=[xvals[0],xvals[-1],yvals[0],yvals[-1]])\n",
    "plt.title(\"Centralized Fourier\");plt.show()"
   ]
  },
  {
   "cell_type": "markdown",
   "metadata": {},
   "source": [
    "Now that you have the basics down, you can start manipulating the data in useful ways.\n",
    "\n",
    "To get full credit for this lab. Complete each of the tasks below."
   ]
  },
  {
   "cell_type": "markdown",
   "metadata": {
    "collapsed": true
   },
   "source": [
    "## Task 1: 1-D Filtering\n",
    "\n",
    "Design a 1-D low-pass filter to smooth the data in Signal.pkl. To help you with the basic structure of filtering programs, here is an\n",
    "[example script](https://www.dropbox.com/s/1jsjyuc9e6k8r3i/freq_filter_script.py?dl=0) for performing the filtering."
   ]
  },
  {
   "cell_type": "code",
   "execution_count": null,
   "metadata": {},
   "outputs": [],
   "source": [
    "import matplotlib.pyplot as plt\n",
    "\n",
    "data = np.loadtxt(\"Signal.txt\")\n",
    "\n",
    "plt.plot(data);plt.title(\"Original Data\");plt.show()"
   ]
  },
  {
   "cell_type": "markdown",
   "metadata": {},
   "source": [
    "## Task 2: Filtering Sound\n",
    "\n",
    "You are given a noisy sound file called **NoisyAudio.wav**. Using a filter similar to the one you made in Task 1, remove as much noise as possible from the audio clip.\n",
    "\n",
    "(Reminder: If sounddevice doesn't import, simply call *pip install sounddevice*)"
   ]
  },
  {
   "cell_type": "code",
   "execution_count": null,
   "metadata": {},
   "outputs": [],
   "source": [
    "import time\n",
    "from scipy.io import wavfile\n",
    "import sounddevice as sd\n",
    "\n",
    "#Import data and convert to Mono channel audio\n",
    "fs, data = wavfile.read(\"NoisyAudio.wav\")\n",
    "data = data[:,0]\n",
    "\n",
    "#Play the audio\n",
    "sd.play(data, fs)\n",
    "\n",
    "#Use this during testing so you don't have to \n",
    "#listen to the full sound file\n",
    "time.sleep(7)\n",
    "sd.stop()"
   ]
  },
  {
   "cell_type": "markdown",
   "metadata": {},
   "source": [
    "## Task 3: 2D Blurring and Sharpening\n",
    "\n",
    "In previous labs, we have performed blurring and sharpening of 2D images. We did this by using specific kernels with this image. These processes can also be done more continuously using a filters in the frequency domain.\n",
    "\n",
    "For a 2D image, a blurring effect can be implemented by applying a low-pass filter to the image in the frequency domain. In similar fashion, a sharpening effect can be implemented by applying a high-boost filter to the image in the frequency domain.\n",
    "\n",
    "**Implement a blurring and sharpening effect using the frequency domain on a grayscale image of your choice.**\n",
    "\n",
    "Again, to help you with the basic structure of filtering programs, reference the\n",
    "[example script](https://www.dropbox.com/s/1jsjyuc9e6k8r3i/freq_filter_script.py?dl=0) for performing the filtering."
   ]
  },
  {
   "cell_type": "code",
   "execution_count": null,
   "metadata": {},
   "outputs": [],
   "source": [
    "from scipy.ndimage import imread\n",
    "\n",
    "filename = \"example.jpg\"\n",
    "im = imread(filename)\n",
    "\n",
    "plt.imshow(im, cmap='gray', interpolation='none')\n",
    "plt.show()"
   ]
  },
  {
   "cell_type": "markdown",
   "metadata": {},
   "source": [
    "The following code for making a 2D Gaussian may be helpful."
   ]
  },
  {
   "cell_type": "code",
   "execution_count": null,
   "metadata": {},
   "outputs": [],
   "source": [
    "X,Y=np.meshgrid(np.linspace(-10,10,100),np.linspace(-10,10,100));\n",
    "mu,sigma=0,1;\n",
    "G=np.exp(-((X-mu)**2+(Y-mu)**2)/(2.0*sigma**2))\n",
    "\n",
    "plt.imshow(G, cmap='gray', interpolation='none')\n",
    "plt.show()"
   ]
  },
  {
   "cell_type": "markdown",
   "metadata": {},
   "source": [
    "## Task 4: Interference Pattern\n",
    "\n",
    "The image **[interfere.png](https://faculty.cs.byu.edu/~farrell/cs450/interfere.png)** has an interference pattern of unknown spatial frequency, orientation and magnitude (it is, however, a single frequency).  Write a program to automatically find and eliminate it.  Remember that you’ll have to eliminate both that frequency and its inverse frequency. \n",
    "\n",
    "Hints: \n",
    " - The frequency you’re looking for isn’t necessarily the one with the greatest magnitude, it’s the one that is most “out of place”.\n",
    " - Don’t just zero the frequency – having that frequency missing can be just as bad as having too much of it.  Try to estimate a reasonable magnitude using similar frequencies.\n",
    " \n",
    "Make sure that you do this automatically… your program should work for any single-frequency interference in this fashion, but at a different frequency and with a different magnitude and/or phase. "
   ]
  },
  {
   "cell_type": "code",
   "execution_count": null,
   "metadata": {},
   "outputs": [],
   "source": [
    "from scipy.ndimage import imread\n",
    "\n",
    "filename = \"interfere.png\"\n",
    "im = imread(filename)\n",
    "\n",
    "plt.imshow(im, cmap='gray', interpolation='none')\n",
    "plt.show()"
   ]
  },
  {
   "cell_type": "code",
   "execution_count": null,
   "metadata": {
    "collapsed": true
   },
   "outputs": [],
   "source": []
  },
  {
   "cell_type": "code",
   "execution_count": null,
   "metadata": {
    "collapsed": true
   },
   "outputs": [],
   "source": []
  }
 ],
 "metadata": {
  "kernelspec": {
   "display_name": "Python 3",
   "language": "python",
   "name": "python3"
  },
  "language_info": {
   "codemirror_mode": {
    "name": "ipython",
    "version": 3
   },
   "file_extension": ".py",
   "mimetype": "text/x-python",
   "name": "python",
   "nbconvert_exporter": "python",
   "pygments_lexer": "ipython3",
   "version": "3.6.2"
  }
 },
 "nbformat": 4,
 "nbformat_minor": 2
}
