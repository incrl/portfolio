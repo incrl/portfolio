{
 "cells": [
  {
   "cell_type": "markdown",
   "metadata": {
    "collapsed": true
   },
   "source": [
    "# Fourier Analysis Lab\n",
    "All  of  the  programming  assignments  are  to  be  done  in  Python  using  additional  libraries  specified  in  the  assignments.  There  are many  libraries  available,  some  of  which  we  will  be  using,  and  you  are  welcome  to  use  them  with  one  exception:  if  the  library  or  a  function  within  it  performs  the  specific  function  you  are  asked  to  code,  you  may  not  use  that  other  than  perhaps  as  a  reference  to  compare  against. All  of  the  code  you  submit  must  be  your  own. You are welcome to turn in a completed jupyter notebook."
   ]
  },
  {
   "cell_type": "markdown",
   "metadata": {},
   "source": [
    "## The Basics\n",
    "\n",
    "We have discussed the Fourier Transform in great detail in class. In this lab, we will implement many of the practical applications of the Fourier Transform. In order to do this, we need to know how the Fourier Transform is implemented in the Numpy library.\n",
    "\n",
    "The following code can be used to perform the Fourier Transform and Inverse Fourier Transform."
   ]
  },
  {
   "cell_type": "code",
   "execution_count": null,
   "metadata": {},
   "outputs": [],
   "source": [
    "import numpy as np\n",
    "import matplotlib.pyplot as plt\n",
    "\n",
    "#Initialize Data\n",
    "data = np.zeros(300)\n",
    "data[125:175] = 1\n",
    "plt.plot(data);plt.title(\"Spatial Function\");plt.show()\n",
    "\n",
    "#Peform Fourier Transform\n",
    "fourier = np.fft.fft(data)\n",
    "#Plot the complex magnitude of the fourier transform\n",
    "plt.plot(np.absolute(fourier));plt.title(\"Frequency Function\");plt.show()\n",
    "\n",
    "#Perform Inverse Fourier Transform\n",
    "original = np.fft.ifft(fourier)\n",
    "original = np.absolute(original)\n",
    "plt.plot(original);plt.title(\"Back to Spatial\");plt.show()"
   ]
  },
  {
   "cell_type": "markdown",
   "metadata": {},
   "source": [
    "This is a very simple way to access and manipulate the fourier transform. Note that the frequency function defaults to the non centralized version for calculation. For visualization, you may choose to plot a centralized frequency function."
   ]
  },
  {
   "cell_type": "code",
   "execution_count": null,
   "metadata": {},
   "outputs": [],
   "source": [
    "#Centralize the plot\n",
    "N = len(fourier)\n",
    "xvals = range(-N/2+1,N/2+1)\n",
    "\n",
    "#Take the second half of the data, reverse and append it to the front\n",
    "result = np.fft.fftshift(fourier)\n",
    "\n",
    "plt.plot(xvals,np.absolute(result));plt.title(\"Centralized Fourier\");plt.show()"
   ]
  },
  {
   "cell_type": "markdown",
   "metadata": {},
   "source": [
    "You can also easily perform the fourier transform on a two dimensional set of data as well. This will be very helpful for doing transforms on our images."
   ]
  },
  {
   "cell_type": "code",
   "execution_count": null,
   "metadata": {},
   "outputs": [],
   "source": [
    "#Initialize Data\n",
    "data2 = np.zeros((300,300))\n",
    "data2[140:160,130:170] = 1\n",
    "plt.imshow(data2,cmap=\"gray\",interpolation=\"none\");plt.title(\"Spatial Function\");plt.show()\n",
    "\n",
    "#Peform Fourier Transform\n",
    "fourier2 = np.fft.fft2(data2)\n",
    "#Plot the complex magnitude of the fourier transform\n",
    "plt.imshow(np.absolute(fourier2),cmap=\"gray\",interpolation=\"none\");plt.title(\"Frequency Function\");plt.show()\n",
    "\n",
    "#Perform Inverse Fourier Transform\n",
    "original2 = np.fft.ifft2(fourier2)\n",
    "original2 = np.absolute(original2)\n",
    "plt.imshow(original2,cmap=\"gray\",interpolation=\"none\");plt.title(\"Back to Spatial\");plt.show()"
   ]
  },
  {
   "cell_type": "markdown",
   "metadata": {},
   "source": [
    "Again, you may also choose to centralize the fourier transform in 2D."
   ]
  },
  {
   "cell_type": "code",
   "execution_count": null,
   "metadata": {},
   "outputs": [],
   "source": [
    "#Centralize the plot\n",
    "M,N = np.shape(fourier2)\n",
    "xvals = range(-N/2+1,N/2+1)\n",
    "yvals = range(-M/2+1,M/2+1)\n",
    "\n",
    "result2 = np.fft.fftshift(fourier2)\n",
    "\n",
    "plt.imshow(np.absolute(result2),cmap=\"gray\",interpolation=\"none\",extent=[xvals[0],xvals[-1],yvals[0],yvals[-1]])\n",
    "plt.title(\"Centralized Fourier\");plt.show()"
   ]
  },
  {
   "cell_type": "markdown",
   "metadata": {},
   "source": [
    "Now that you have the basics down, you can start manipulating the data in useful ways.\n",
    "\n",
    "To get full credit for this lab. Complete each of the tasks below."
   ]
  },
  {
   "cell_type": "markdown",
   "metadata": {
    "collapsed": true
   },
   "source": [
    "## Task 1: 1-D Filtering\n",
    "\n",
    "Design a 1-D low-pass filter to smooth the data in Signal.pkl. To help you with the basic structure of filtering programs, here is an\n",
    "[example script](https://www.dropbox.com/s/1jsjyuc9e6k8r3i/freq_filter_script.py?dl=0) for performing the filtering."
   ]
  },
  {
   "cell_type": "code",
   "execution_count": null,
   "metadata": {},
   "outputs": [],
   "source": [
    "import matplotlib.pyplot as plt\n",
    "\n",
    "import pickle\n",
    "data = pickle.load(open('Signal.pkl','r'))\n",
    "\n",
    "plt.plot(data);plt.title(\"Original Data\");plt.show()"
   ]
  },
  {
   "cell_type": "code",
   "execution_count": null,
   "metadata": {},
   "outputs": [],
   "source": [
    "def plotf(f,title=\"\"):\n",
    "    plt.plot(f)\n",
    "    plt.title(title)\n",
    "    plt.show()\n",
    "\n",
    "def plotc(f,title=\"\"):\n",
    "    #Centralize the plot\n",
    "    N = len(f)\n",
    "    xvals = range(-N/2+1,N/2+1)\n",
    "\n",
    "    #Take the second half of the data, reverse and append it to the front\n",
    "    result = np.fft.fftshift(f)\n",
    "\n",
    "    plt.plot(xvals,np.absolute(result));plt.title(title);plt.show()\n",
    "    \n",
    "# 1 Dimensional Filter Code\n",
    "def transform1D(f,H):\n",
    "    # Put f in frequency domaain\n",
    "    F = np.fft.fft(f)\n",
    "    \n",
    "    # Perform transform\n",
    "    G = F*H\n",
    "    \n",
    "    # Bring back into spacial domain\n",
    "    g = np.fft.ifft(G)\n",
    "    \n",
    "    magnitude = np.absolute(g)\n",
    "    return magnitude\n",
    "\n",
    "def transformAudio(f, H):\n",
    "    # Put f in frequency domaain\n",
    "    F = np.fft.fft(f)\n",
    "    \n",
    "    # Perform transform\n",
    "    G = F*H\n",
    "    \n",
    "    # Bring back into spacial domain\n",
    "    g = np.fft.ifft(G)\n",
    "    \n",
    "    return g\n",
    "\n",
    "def gaussian(x, mu, sig):\n",
    "    return np.exp(-np.power(x - mu, 2.) / (2 * np.power(sig, 2.)))\n",
    "\n",
    "# Generate Gaussian Filter\n",
    "N = len(data)\n",
    "x = np.linspace(0,1, N)\n",
    "sd = .01\n",
    "\n",
    "H = gaussian(x,0,sd)\n",
    "\n",
    "#Add mirroed negative values\n",
    "vals = H[:N/2]\n",
    "mirrored = vals[::-1]\n",
    "H[(-N/2):] = mirrored\n",
    "\n",
    "plotc(H, \"Low Pass Filter\")\n",
    "\n",
    "g = transform1D(data,H)\n",
    "\n",
    "plotf(g, \"New Output\")"
   ]
  },
  {
   "cell_type": "markdown",
   "metadata": {},
   "source": [
    "## Task 2: Filtering Sound\n",
    "\n",
    "You are given a noisy sound file called **NoisyAudio.wav**. Using a filter similar to the one you made in Task 1, remove as much noise as possible from the audio clip.\n",
    "\n",
    "(Reminder: If sounddevice doesn't import, simply call *pip install sounddevice*)"
   ]
  },
  {
   "cell_type": "code",
   "execution_count": null,
   "metadata": {},
   "outputs": [],
   "source": [
    "import time\n",
    "from scipy.io import wavfile\n",
    "import sounddevice as player\n",
    "\n",
    "#Import data and convert to Mono channel audio\n",
    "fs, data = wavfile.read(\"NoisyAudio.wav\")\n",
    "data = data[:,0]\n",
    "\n",
    "# Generate Gaussian Filter\n",
    "N = len(data)\n",
    "x = np.linspace(0,1, N)\n",
    "sd = .2\n",
    "\n",
    "H = gaussian(x,0,sd)\n",
    "\n",
    "#Add mirroed negative values\n",
    "vals = H[:N/2]\n",
    "mirrored = vals[::-1]\n",
    "H[(-N/2):] = mirrored\n",
    "\n",
    "plotc(H, \"Filter\")\n",
    "\n",
    "plotf(data)\n",
    "\n",
    "data = np.real(transformAudio(data,H))\n",
    "\n",
    "plotf(data)\n",
    "\n",
    "print \"Done\"\n",
    "\n",
    "#Play the new audio\n",
    "player.play(data, fs)"
   ]
  },
  {
   "cell_type": "markdown",
   "metadata": {},
   "source": [
    "## Task 3: 2D Blurring and Sharpening\n",
    "\n",
    "In previous labs, we have performed blurring and sharpening of 2D images. We did this by using specific kernels with this image. These processes can also be done more continuously using a filters in the frequency domain.\n",
    "\n",
    "For a 2D image, a blurring effect can be implemented by applying a low-pass filter to the image in the frequency domain. In similar fashion, a sharpening effect can be implemented by applying a high-boost filter to the image in the frequency domain.\n",
    "\n",
    "**Implement a blurring and sharpening effect using the frequency domain on a grayscale image of your choice.**\n",
    "\n",
    "Again, to help you with the basic structure of filtering programs, reference the\n",
    "[example script](https://www.dropbox.com/s/1jsjyuc9e6k8r3i/freq_filter_script.py?dl=0) for performing the filtering."
   ]
  },
  {
   "cell_type": "code",
   "execution_count": null,
   "metadata": {
    "collapsed": true
   },
   "outputs": [],
   "source": [
    "def transform2D(f,H):\n",
    "\n",
    "    # Convert image to a gray floating-point (double) image in range 0.0 to 1.0\n",
    "    if f.ndim == 3:\n",
    "        f = np.double(rgb2gray(f) )/255.0\n",
    "    else:\n",
    "        f = np.double(f)/255.0\n",
    " \n",
    "    # Put f into frequency domain\n",
    "    F = np.fft.fft2(f)\n",
    "    \n",
    "    # Perform Transform Function\n",
    "    G = F*H\n",
    "    \n",
    "    # Bring Back into spatial domain\n",
    "    g = np.fft.ifft2(G)\n",
    "    \n",
    "    magnitude = np.absolute(g)\n",
    "    \n",
    "    return magnitude"
   ]
  },
  {
   "cell_type": "code",
   "execution_count": null,
   "metadata": {},
   "outputs": [],
   "source": [
    "from scipy.ndimage import imread\n",
    "\n",
    "filename = \"example.jpg\"\n",
    "im = imread(filename)\n",
    "\n",
    "plt.imshow(im, cmap='gray', interpolation='none')\n",
    "plt.show()\n",
    "\n",
    "rows,cols = np.shape(im)\n",
    "\n",
    "#Generate a Sharpening Kernel\n",
    "X,Y=np.meshgrid(np.linspace(-10,10,cols),np.linspace(-10,10,rows));\n",
    "mu,sigma=0,3;\n",
    "G=np.exp(-((X-mu)**2+(Y-mu)**2)/(2.0*sigma**2))\n",
    "S=G+1\n",
    "\n",
    "sharpened = transform2D(im,S)\n",
    "plt.imshow(sharpened, cmap='gray', interpolation='none')\n",
    "plt.title(\"Sharpened\");plt.show()\n",
    "\n",
    "#Generate a blurring kernel\n",
    "B = np.fft.fftshift(G)\n",
    "blurred = transform2D(im,B)\n",
    "plt.imshow(blurred, cmap='gray', interpolation='none')\n",
    "plt.title(\"Blurred\");plt.show()\n"
   ]
  },
  {
   "cell_type": "markdown",
   "metadata": {},
   "source": [
    "## Task 4: Interference Pattern\n",
    "\n",
    "The image **[interfere.png](https://faculty.cs.byu.edu/~farrell/cs450/interfere.png)** has an interference pattern of unknown spatial frequency, orientation and magnitude (it is, however, a single frequency).  Write a program to automatically find and eliminate it.  Remember that you’ll have to eliminate both that frequency and its inverse frequency. \n",
    "\n",
    "Hints: \n",
    " - The frequency you’re looking for isn’t necessarily the one with the greatest magnitude, it’s the one that is most “out of place”.\n",
    " - Don’t just zero the frequency – having that frequency missing can be just as bad as having too much of it.  Try to estimate a reasonable magnitude using similar frequencies.\n",
    " \n",
    "Make sure that you do this automatically… your program should work for any single-frequency interference in this fashion, but at a different frequency and with a different magnitude and/or phase. "
   ]
  },
  {
   "cell_type": "code",
   "execution_count": null,
   "metadata": {
    "collapsed": true
   },
   "outputs": [],
   "source": [
    "# Helper Functions\n",
    "\n",
    "# Run an edge detector on frequency domain\n",
    "def anomalyDetect(image):\n",
    "    \n",
    "    (rows,cols) = image.shape\n",
    "    \n",
    "    #Create the kernel for x and y direction\n",
    "    ker = np.zeros((3,3))\n",
    "    ker[0,0] = -1\n",
    "    ker[1,0] = -1\n",
    "    ker[2,0] = -1\n",
    "    ker[0,1] = -1\n",
    "    ker[1,1] = 1\n",
    "    ker[2,1] = -1\n",
    "    ker[0,2] = -1\n",
    "    ker[1,2] = -1\n",
    "    ker[2,2] = -1\n",
    "    \n",
    "    result = np.zeros((rows,cols))\n",
    "    \n",
    "    # Go through image\n",
    "    for i in range(1,rows-1): \n",
    "        for j in range(1,cols-1):\n",
    "            mask = image[i-1:i+2,j-1:j+2]\n",
    "            mask = np.multiply(ker,mask)\n",
    "            value = np.sum(mask)\n",
    "            result[i,j] = value\n",
    "            \n",
    "    return result\n",
    "\n",
    "def freqRemove(f):\n",
    "    \n",
    "    F = np.fft.fft2(f)\n",
    "    mags = np.absolute(F)\n",
    "    \n",
    "    anom = anomalyDetect(mags)\n",
    "    N=len(anom) - 1\n",
    "    \n",
    "    result = F\n",
    "    for i in range(1,N):\n",
    "        for j in range(1,N):\n",
    "            if anom[i][j] > 0:\n",
    "                result[i][j] = average(F,i,j)\n",
    "                \n",
    "    r = np.fft.ifft2(result)\n",
    "    r = np.absolute(r)\n",
    "    \n",
    "    return r\n",
    "    \n",
    "def average(F,i,j):\n",
    "    return (F[i+1][j+1] + F[i-1][i-1] + F[i+1][i-1] + F[i-1][i+1])/4.0\n"
   ]
  },
  {
   "cell_type": "code",
   "execution_count": null,
   "metadata": {},
   "outputs": [],
   "source": [
    "from scipy.ndimage import imread\n",
    "\n",
    "filename = \"interfere.png\"\n",
    "im = imread(filename)\n",
    "im = im[:,:,0]\n",
    "\n",
    "plt.imshow(im, cmap='gray', interpolation='none');plt.show()\n",
    "\n",
    "brain = freqRemove(im)\n",
    "\n",
    "plt.imshow(brain, cmap='gray', interpolation='none');plt.show()"
   ]
  },
  {
   "cell_type": "code",
   "execution_count": null,
   "metadata": {
    "collapsed": true
   },
   "outputs": [],
   "source": []
  }
 ],
 "metadata": {
  "kernelspec": {
   "display_name": "Python 3",
   "language": "python",
   "name": "python3"
  },
  "language_info": {
   "codemirror_mode": {
    "name": "ipython",
    "version": 3
   },
   "file_extension": ".py",
   "mimetype": "text/x-python",
   "name": "python",
   "nbconvert_exporter": "python",
   "pygments_lexer": "ipython3",
   "version": "3.5.2"
  }
 },
 "nbformat": 4,
 "nbformat_minor": 2
}
