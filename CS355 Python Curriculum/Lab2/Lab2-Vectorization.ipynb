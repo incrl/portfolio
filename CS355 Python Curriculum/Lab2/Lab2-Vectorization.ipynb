{
 "cells": [
  {
   "cell_type": "markdown",
   "metadata": {
    "collapsed": true
   },
   "source": [
    "# Vectorization Lab\n",
    "All  of  the  programming  assignments  are  to  be  done  in  Python  using  additional  libraries  specified  in  the  assignments.  There  are many  libraries  available,  some  of  which  we  will  be  using,  and  you  are  welcome  to  use  them  with  one  exception:  if  the  library  or  a  function  within  it  performs  the  specific  function  you  are  asked  to  code,  you  may  not  use  that  other  than  perhaps  as  a  reference  to  compare  against. All  of  the  code  you  submit  must  be  your  own. You are welcome to turn in a completed jupyter notebook."
   ]
  },
  {
   "cell_type": "markdown",
   "metadata": {},
   "source": [
    "**The purpose of this lab is to learn how to use the vectorization features of Numpy. You are not allowed to use a for or while loop for any part of this lab. Any use of a for or while loop will cost points.**"
   ]
  },
  {
   "cell_type": "markdown",
   "metadata": {},
   "source": [
    "The following code will load the grayscale image you can use for this lab. If needed, make sure to install PIL using *pip install PIL* or *conda install PIL*."
   ]
  },
  {
   "cell_type": "code",
   "execution_count": null,
   "metadata": {
    "collapsed": true
   },
   "outputs": [],
   "source": [
    "from scipy.ndimage import imread\n",
    "import matplotlib.pyplot as plt\n",
    "import numpy as np\n",
    "\n",
    "cat = imread('cat.jpg')\n",
    "cat = np.matrix(cat,dtype=np.int32)\n",
    "plt.imshow(cat,cmap=\"Greys_r\", vmin=0)\n",
    "plt.show()"
   ]
  },
  {
   "cell_type": "markdown",
   "metadata": {},
   "source": [
    "Implement each of the following functions."
   ]
  },
  {
   "cell_type": "markdown",
   "metadata": {},
   "source": [
    "## Function 1: Brightness Adjust\n",
    "Takes in a grayscale image and returns the brightened version of that image according to a passed in parameter. Use a max image value of 255."
   ]
  },
  {
   "cell_type": "code",
   "execution_count": null,
   "metadata": {
    "collapsed": true
   },
   "outputs": [],
   "source": [
    "def brightAdjust(image, c):\n",
    "    return none\n",
    "\n"
   ]
  },
  {
   "cell_type": "code",
   "execution_count": null,
   "metadata": {
    "collapsed": true
   },
   "outputs": [],
   "source": [
    "#Test Cases\n",
    "bright_cat = brightAdjust(cat, 100)\n",
    "plt.imshow(bright_cat, cmap=\"Greys_r\",vmin=0, vmax=255);plt.title(\"Bright Cat\");plt.show()\n",
    "dark_cat = brightAdjust(cat, -100)\n",
    "plt.imshow(dark_cat, cmap=\"Greys_r\",vmin=0, vmax=255);plt.title(\"Dark Cat\");plt.show()"
   ]
  },
  {
   "cell_type": "markdown",
   "metadata": {},
   "source": [
    "## Function 2: Contrast Adjustment\n",
    "Takes in a grayscale image and returns the contrasted version of that image according to a passed in parameter. Use a max image value of 255.\n",
    "\n",
    "Also, rather than a straight linear operation, we will use a mapping similar to what Photoshop does. In particular, the contrast will be in the range [-100,100] where 0 denotes no change, -100 denotes complete loss of contrast, and 100 denotes maximum enhancement (8x multiplier). If *c* is the contrast parameter, then the level operation applied is:\n",
    "\n",
    "$$s = \\left(\\frac{c+100}{100}\\right)^4 (r-128) + 128$$\n",
    "\n",
    "Make sure you work in floating point, not integers. Integer division would not be very acurate."
   ]
  },
  {
   "cell_type": "code",
   "execution_count": null,
   "metadata": {
    "collapsed": true
   },
   "outputs": [],
   "source": [
    "def contrastAdjust(image,c):\n",
    "    return None\n",
    "\n"
   ]
  },
  {
   "cell_type": "code",
   "execution_count": null,
   "metadata": {
    "collapsed": true
   },
   "outputs": [],
   "source": [
    "#Test Cases\n",
    "high_contrast_cat = contrastAdjust(cat, 50)\n",
    "plt.imshow(high_contrast_cat, cmap=\"Greys_r\",vmin=0, vmax=255);plt.title(\"High Contrast Cat\");plt.show()\n",
    "low_contrast_cat = contrastAdjust(cat, -50)\n",
    "plt.imshow(low_contrast_cat, cmap=\"Greys_r\",vmin=0, vmax=255);plt.title(\"Low Contrast Cat\");plt.show()"
   ]
  },
  {
   "cell_type": "markdown",
   "metadata": {},
   "source": [
    "## Function 3: Thresholding\n",
    "Takes in a grayscale image and returns the thresholded version of the image according to a passed in parameter. Ever pixel that is higher than the parameter is 255, everything below is zero. (Hint: Use np.where)"
   ]
  },
  {
   "cell_type": "code",
   "execution_count": null,
   "metadata": {
    "collapsed": true
   },
   "outputs": [],
   "source": [
    "def thresholder(image, c):\n",
    "    return None\n"
   ]
  },
  {
   "cell_type": "code",
   "execution_count": null,
   "metadata": {
    "collapsed": true
   },
   "outputs": [],
   "source": [
    "#Test Cases\n",
    "thresholded_cat = thresholder(cat, 80)\n",
    "plt.imshow(thresholded_cat, cmap=\"Greys_r\",vmin=0, vmax=255);plt.title(\"Thresholded Cat\");plt.show()"
   ]
  },
  {
   "cell_type": "markdown",
   "metadata": {},
   "source": [
    "## Function 4: Cropping\n",
    "Takes in a grayscale image, an x and y of a topleft pixel, a width, and a height and returns a cropped version of that image according to those parameters."
   ]
  },
  {
   "cell_type": "code",
   "execution_count": null,
   "metadata": {
    "collapsed": true
   },
   "outputs": [],
   "source": [
    "def cropper(image, width, height, x=0, y=0):\n",
    "    return None\n",
    "\n"
   ]
  },
  {
   "cell_type": "code",
   "execution_count": null,
   "metadata": {
    "collapsed": true
   },
   "outputs": [],
   "source": [
    "#Test Cases\n",
    "cropped_cat1 = cropper(cat, 100, 100)\n",
    "plt.imshow(cropped_cat1, cmap=\"Greys_r\",vmin=0, vmax=255);plt.title(\"Cropped Cat 1\");plt.show()\n",
    "cropped_cat2 = cropper(cat, 120, 120, 90, 90)\n",
    "plt.imshow(cropped_cat2, cmap=\"Greys_r\",vmin=0, vmax=255);plt.title(\"Cropped Cat 2\");plt.show()"
   ]
  },
  {
   "cell_type": "markdown",
   "metadata": {},
   "source": [
    "## Function 5: Scaling\n",
    "Takes in a grayscale image and returns the same image with a resolution that is half the width and half the height of the original. (Hint: Think about what pixels you will want to grab to make that smaller image)"
   ]
  },
  {
   "cell_type": "code",
   "execution_count": null,
   "metadata": {
    "collapsed": true
   },
   "outputs": [],
   "source": [
    "def scaler(image):\n",
    "    return None\n",
    "\n"
   ]
  },
  {
   "cell_type": "code",
   "execution_count": null,
   "metadata": {
    "collapsed": true
   },
   "outputs": [],
   "source": [
    "scaled_cat = scaler(cat)\n",
    "\n",
    "fig = plt.figure()\n",
    "ax1 = fig.add_subplot(1,2,1)\n",
    "ax1.imshow(cat, cmap=\"Greys_r\",vmin=0, vmax=255); ax1.set_title(\"Original\")\n",
    "ax2 = fig.add_subplot(1,2,2)\n",
    "ax2.imshow(scaled_cat, cmap=\"Greys_r\",vmin=0, vmax=255); ax2.set_title(\"Scaled\")\n",
    "plt.show()"
   ]
  },
  {
   "cell_type": "code",
   "execution_count": null,
   "metadata": {
    "collapsed": true
   },
   "outputs": [],
   "source": []
  }
 ],
 "metadata": {
  "kernelspec": {
   "display_name": "Python 2",
   "language": "python",
   "name": "python2"
  },
  "language_info": {
   "codemirror_mode": {
    "name": "ipython",
    "version": 2
   },
   "file_extension": ".py",
   "mimetype": "text/x-python",
   "name": "python",
   "nbconvert_exporter": "python",
   "pygments_lexer": "ipython2",
   "version": "2.7.13"
  }
 },
 "nbformat": 4,
 "nbformat_minor": 2
}
