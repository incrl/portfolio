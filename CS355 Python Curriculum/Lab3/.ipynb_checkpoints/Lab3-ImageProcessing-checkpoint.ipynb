{
 "cells": [
  {
   "cell_type": "markdown",
   "metadata": {
    "collapsed": true
   },
   "source": [
    "# Image Processing Lab\n",
    "All  of  the  programming  assignments  are  to  be  done  in  Python  using  additional  libraries  specified  in  the  assignments.  There  are many  libraries  available,  some  of  which  we  will  be  using,  and  you  are  welcome  to  use  them  with  one  exception:  if  the  library  or  a  function  within  it  performs  the  specific  function  you  are  asked  to  code,  you  may  not  use  that  other  than  perhaps  as  a  reference  to  compare  against. All  of  the  code  you  submit  must  be  your  own. You are welcome to turn in a completed jupyter notebook."
   ]
  },
  {
   "cell_type": "markdown",
   "metadata": {},
   "source": [
    "The following code will load an image you can use for this lab. If needed make sure to install PIL using *pip install PIL* or *conda install PIL*."
   ]
  },
  {
   "cell_type": "markdown",
   "metadata": {},
   "source": [
    "## Pre-lab Notes\n",
    "Since it is our first time working with color images, we need to be careful of a couple of things. Most RGB color images store each RGB value as an 8-bit number. This is fine for displaying images as shown below:"
   ]
  },
  {
   "cell_type": "code",
   "execution_count": null,
   "metadata": {
    "collapsed": true
   },
   "outputs": [],
   "source": [
    "from scipy.ndimage import imread\n",
    "import matplotlib.pyplot as plt\n",
    "import numpy as np\n",
    "\n",
    "racoon = imread('racoon.jpg')\n",
    "plt.imshow(racoon); plt.show()"
   ]
  },
  {
   "cell_type": "markdown",
   "metadata": {},
   "source": [
    "This is fine for displaying, but becomes a problem once we try to do any image manipulations. We have to beware of overflow. For example, lets say we just want to add 20 to all of the RGB values."
   ]
  },
  {
   "cell_type": "code",
   "execution_count": null,
   "metadata": {
    "collapsed": true
   },
   "outputs": [],
   "source": [
    "plt.imshow(racoon + 20)\n",
    "plt.show()"
   ]
  },
  {
   "cell_type": "markdown",
   "metadata": {},
   "source": [
    "Notice what happens near the white areas of the image. We only had 8-bits to respresent each RGB value (0 to 255). White areas will have values near 255. So when we add 20, the colors go crazy because values have overflowed (ex. 240 + 20 = 4).\n",
    "\n",
    "You maybe tempted to try something like this:"
   ]
  },
  {
   "cell_type": "code",
   "execution_count": null,
   "metadata": {
    "collapsed": true
   },
   "outputs": [],
   "source": [
    "plt.imshow(np.minimum(racoon + 20, 255))\n",
    "plt.show()"
   ]
  },
  {
   "cell_type": "markdown",
   "metadata": {},
   "source": [
    "Notice that this still doesn't work because the overflow occurs before the maximum check.\n",
    "\n",
    "The way to beat this problem is to convert the image into a higher bit representations, do the manipulations, then convert it back down to the 8-bit representation."
   ]
  },
  {
   "cell_type": "code",
   "execution_count": null,
   "metadata": {
    "collapsed": true
   },
   "outputs": [],
   "source": [
    "racoon_32 = np.array(racoon, dtype=np.int32)\n",
    "racoon_32 = np.minimum(racoon_32 + 20, 255)\n",
    "racoon_8 = np.array(racoon_32, dtype=np.uint8)\n",
    "\n",
    "plt.imshow(racoon_8)\n",
    "plt.show()"
   ]
  },
  {
   "cell_type": "markdown",
   "metadata": {},
   "source": [
    "For convenience, we will leave all data in int32 representation. Then, we will simply define a function that converts the image back to 8-bit representation before plotting."
   ]
  },
  {
   "cell_type": "code",
   "execution_count": null,
   "metadata": {
    "collapsed": true
   },
   "outputs": [],
   "source": [
    "def plotImage(image, title=\"\"):\n",
    "    im = np.array(image, dtype=np.uint8)\n",
    "    plt.imshow(im, vmin = 0, vmax = 255)\n",
    "    plt.title(title)\n",
    "    plt.show()\n",
    "\n",
    "racoon = imread('racoon.jpg')\n",
    "racoon = np.array(racoon, dtype=np.int32)\n",
    "plotImage(racoon)"
   ]
  },
  {
   "cell_type": "markdown",
   "metadata": {},
   "source": [
    "You are welcome to use the function above for plotting your own color images.\n",
    "\n",
    "In this lab, you will also need to be able to convert between RGB values and HSB values. We have provided function that allow you to easily go back and forth while staying in the 0-255 representation for images. You are welcome to use the functions below in this lab."
   ]
  },
  {
   "cell_type": "code",
   "execution_count": 1,
   "metadata": {
    "collapsed": true
   },
   "outputs": [],
   "source": [
    "def toHSB(image):\n",
    "    from matplotlib import colors\n",
    "    temp = 255*colors.rgb_to_hsv(image/255.0)\n",
    "    return temp.astype(np.int32)\n",
    "    \n",
    "def toRGB(image):\n",
    "    from matplotlib import colors\n",
    "    temp = 255*colors.hsv_to_rgb(image/255.0)\n",
    "    return temp.astype(np.int32)"
   ]
  },
  {
   "cell_type": "markdown",
   "metadata": {},
   "source": [
    "Now that you have that understanding, you are ready to start the lab.\n",
    "\n",
    "Implement each of the following functions. Use the provided test cases to test your functions."
   ]
  },
  {
   "cell_type": "markdown",
   "metadata": {},
   "source": [
    "## Function 1: Convert to grayscale\n",
    "Takes in a color image and returns a grayscale image using the following formula: Gray = 0.299 Red + 0.587 Green + 0.114 Blue"
   ]
  },
  {
   "cell_type": "code",
   "execution_count": null,
   "metadata": {
    "collapsed": true
   },
   "outputs": [],
   "source": [
    "def toGrayScale(image):\n",
    "    return None\n"
   ]
  },
  {
   "cell_type": "code",
   "execution_count": null,
   "metadata": {
    "collapsed": true
   },
   "outputs": [],
   "source": [
    "# Test Case\n",
    "gray_racoon = toGrayScale(racoon)\n",
    "plt.imshow(gray_racoon,cmap=\"Greys_r\",vmin=0,vmax=255)\n",
    "plt.title(\"Grayscale Racoon\")\n",
    "plt.show()"
   ]
  },
  {
   "cell_type": "markdown",
   "metadata": {},
   "source": [
    "## Function 2: Brightness Adjustment\n",
    "Takes in a color image and returns the brightened version of that image according to a passed in parameter. Use a max image value of 255."
   ]
  },
  {
   "cell_type": "code",
   "execution_count": null,
   "metadata": {
    "collapsed": true
   },
   "outputs": [],
   "source": [
    "def brightAdjust(image,c):\n",
    "    return None\n",
    "\n"
   ]
  },
  {
   "cell_type": "code",
   "execution_count": null,
   "metadata": {
    "collapsed": true
   },
   "outputs": [],
   "source": [
    "# Test Case\n",
    "bright_racoon = brightAdjust(racoon,100)\n",
    "plotImage(bright_racoon, \"Bright Racoon\")\n",
    "dark_racoon = brightAdjust(racoon,-100)\n",
    "plotImage(dark_racoon, \"Dark Racoon\")"
   ]
  },
  {
   "cell_type": "markdown",
   "metadata": {},
   "source": [
    "## Function 3: Contrast Adjustment\n",
    "Takes in a color image and returns the contrasted version of that image according to a passed in parameter. Use a max image value of 255.\n",
    "\n",
    "Also, rather than a straight linear operation, we will use a mapping similar to what Photoshop does. In particular, the contrast will be in the range [-100,100] where 0 denotes no change, -100 denotes complete loss of contrast, and 100 denotes maximum enhancement (8x multiplier). If *c* is the contrast parameter, then the level operation applied is:\n",
    "\n",
    "$$s = \\left(\\frac{c+100}{100}\\right)^4 (r-128) + 128$$\n",
    "\n",
    "Make sure you work in floating point, not integers. Integer division would not be very acurate."
   ]
  },
  {
   "cell_type": "code",
   "execution_count": null,
   "metadata": {
    "collapsed": true
   },
   "outputs": [],
   "source": [
    "def contrastAdjust(image, c):\n",
    "    return None\n",
    "\n"
   ]
  },
  {
   "cell_type": "code",
   "execution_count": null,
   "metadata": {
    "collapsed": true
   },
   "outputs": [],
   "source": [
    "contrast_racoon = contrastAdjust(racoon,30)\n",
    "plotImage(contrast_racoon, \"High Contrast Racoon\")"
   ]
  },
  {
   "cell_type": "markdown",
   "metadata": {},
   "source": [
    "## Function 4: Image Blending\n",
    "Takes in 2 color images of the same size. Given an alpha value it returns the blended image according to the alpha value. Note that your alpha value can be a single number or a mask image of the same size. The alpha values will be between 0 and 1."
   ]
  },
  {
   "cell_type": "code",
   "execution_count": null,
   "metadata": {
    "collapsed": true
   },
   "outputs": [],
   "source": [
    "def alphaBlend(image1, image2, alpha = .5):\n",
    "    return None\n",
    "\n"
   ]
  },
  {
   "cell_type": "code",
   "execution_count": null,
   "metadata": {
    "collapsed": true
   },
   "outputs": [],
   "source": [
    "# Test Cases\n",
    "man = imread(\"man.jpg\")\n",
    "city = imread(\"city.jpg\")\n",
    "blended = alphaBlend(man, city, .7)\n",
    "plotImage(blended, \"Alpha Blend with Single Value\")\n",
    "\n",
    "mask1 = imread(\"alphamask1.jpg\")/255.0\n",
    "blended1 = alphaBlend(man, city, mask1)\n",
    "plotImage(blended1, \"Alpha Blend with Mask 1\")\n",
    "\n",
    "beach = imread(\"beach.jpg\")\n",
    "boat = imread(\"boat.jpg\")\n",
    "mask2 = imread(\"alphamask2.jpg\")/255.0\n",
    "blended2 = alphaBlend(boat, beach, mask2)\n",
    "plotImage(blended2, \"Alpha Blend with Mask 2\")"
   ]
  },
  {
   "cell_type": "markdown",
   "metadata": {},
   "source": [
    "## Function 5: Cross Dissolve\n",
    "\n",
    "Takes in 2 color images of the same size. Returns an array of alpha blend of those two images, where the first picture is an alpha value of 1, the last picture is an alpha value of 0, and the middle pictures slowly decrease until reaching zero. Allow the user to specify the number of steps in the cross dissolve. You can then feed this array into our animation function to view the cross dissolve."
   ]
  },
  {
   "cell_type": "code",
   "execution_count": null,
   "metadata": {
    "collapsed": true
   },
   "outputs": [],
   "source": [
    "def crossDissolve(image1, image2, numsteps = 10):\n",
    "    return None\n",
    "\n"
   ]
  },
  {
   "cell_type": "code",
   "execution_count": null,
   "metadata": {
    "collapsed": true
   },
   "outputs": [],
   "source": [
    "#Test Case\n",
    "import matplotlib.animation as animation\n",
    "%matplotlib notebook\n",
    "\n",
    "beach = imread(\"beach.jpg\")\n",
    "boat = imread(\"boat.jpg\")\n",
    "dis = crossDissolve(beach, boat)\n",
    "\n",
    "fig = plt.figure()\n",
    "ims = []\n",
    "for im in dis:\n",
    "    im = np.array(im, dtype=np.uint8)\n",
    "    result = plt.imshow(im, vmin=0, vmax=255, animated=True)\n",
    "    ims.append([result])\n",
    "\n",
    "ani = animation.ArtistAnimation(fig, ims, interval=500, blit=True)\n",
    "plt.show()"
   ]
  },
  {
   "cell_type": "markdown",
   "metadata": {},
   "source": [
    "Because we are working in a notebook, this may not display properly. If necessary, plot the individual pictures to verify that the cross dissolve is working. Also, run the following line of code once you are done to return back to normal plotting functions."
   ]
  },
  {
   "cell_type": "code",
   "execution_count": 1,
   "metadata": {
    "collapsed": true
   },
   "outputs": [],
   "source": [
    "%matplotlib inline"
   ]
  },
  {
   "cell_type": "markdown",
   "metadata": {},
   "source": [
    "## Function 6: Uniform Blurring\n",
    "Takes in a grayscale image and returns a corresponding result that has been blurred (spatially filtered) using a uniform averaging. Allow the user to specify the size of the kernel (ex. size=3 would give a 3x3 kernel). You can ignore the edge pixels. (Hint: np.sum() may be useful)"
   ]
  },
  {
   "cell_type": "code",
   "execution_count": null,
   "metadata": {
    "collapsed": true
   },
   "outputs": [],
   "source": [
    "def blur(image,size=3):\n",
    "    return None\n",
    "\n"
   ]
  },
  {
   "cell_type": "code",
   "execution_count": null,
   "metadata": {
    "collapsed": true
   },
   "outputs": [],
   "source": [
    "# Test Cases\n",
    "gray_racoon = toGrayScale(racoon)\n",
    "blur_racoon = blur(gray_racoon)\n",
    "plt.imshow(blur_racoon,cmap=\"Greys_r\",vmin=0,vmax=255); plt.title(\"Uniform Blurring\")\n",
    "plt.show()\n",
    "\n",
    "blur_racoon2 = blur(gray_racoon, 7)\n",
    "plt.imshow(blur_racoon2,cmap=\"Greys_r\",vmin=0,vmax=255); plt.title(\"Uniform Blurring (7x7)\")\n",
    "plt.show()"
   ]
  },
  {
   "cell_type": "markdown",
   "metadata": {},
   "source": [
    "## Function 7: Median Filter\n",
    "Takes in a grayscale image and returns a corresponding result that has been median filtered. Allow the user to specify the size of the kernel (ex. size=3 would give a 3x3 kernel). You can ignore the edge pixels."
   ]
  },
  {
   "cell_type": "code",
   "execution_count": null,
   "metadata": {
    "collapsed": true
   },
   "outputs": [],
   "source": [
    "def medianFilter(image,size=3):\n",
    "    return None\n",
    "\n"
   ]
  },
  {
   "cell_type": "code",
   "execution_count": null,
   "metadata": {
    "collapsed": true
   },
   "outputs": [],
   "source": [
    "# Test Cases\n",
    "gray_racoon = toGrayScale(racoon)\n",
    "median_racoon = medianFilter(gray_racoon)\n",
    "plt.imshow(median_racoon,cmap=\"Greys_r\",vmin=0,vmax=255); plt.title(\"Median Blurring\")\n",
    "plt.show()\n",
    "\n",
    "median_racoon2 = medianFilter(gray_racoon, 7)\n",
    "plt.imshow(median_racoon2,cmap=\"Greys_r\",vmin=0,vmax=255); plt.title(\"Median Blurring (7x7)\")\n",
    "plt.show()"
   ]
  },
  {
   "cell_type": "markdown",
   "metadata": {},
   "source": [
    "## Function 8: General Convolution\n",
    "\n",
    "Now that you have written a couple of different kernels, write a general convolution function that takes in an image and kernel (stored as a numpy matrix), and performs the appropriate convolution. You can assume the kernel is 3x3 if you would like, but it is not much harder to do a general size kernel as well."
   ]
  },
  {
   "cell_type": "code",
   "execution_count": null,
   "metadata": {
    "collapsed": true
   },
   "outputs": [],
   "source": [
    "def convolution(image,kernel):\n",
    "    return None\n",
    "\n",
    "\n"
   ]
  },
  {
   "cell_type": "markdown",
   "metadata": {},
   "source": [
    "To make sure your general convolution is working, compare the following test case with your original blur results."
   ]
  },
  {
   "cell_type": "code",
   "execution_count": null,
   "metadata": {
    "collapsed": true
   },
   "outputs": [],
   "source": [
    "# Test Cases\n",
    "gray_racoon = toGrayScale(racoon)\n",
    "\n",
    "blur_kernel = np.matrix([[1, 1, 1],\n",
    "                        [1, 1, 1],\n",
    "                        [1, 1, 1]])\n",
    "\n",
    "median_racoon = convolution(gray_racoon, blur_kernel)/9.0\n",
    "plt.imshow(median_racoon,cmap=\"Greys_r\",vmin=0,vmax=255); plt.title(\"Uniform Bluring\")\n",
    "plt.show()"
   ]
  },
  {
   "cell_type": "markdown",
   "metadata": {},
   "source": [
    "## Function 9: Sharpening\n",
    "Takes in a grayscale image and returns a corresponding result that has been sharpened using an unsharp masking kernel that has a 6 in the middle and -1s for the four-connected neighbors. You can use your general convolution function. You can ignore the edge pixels. **Don't forget to normalize your results.**"
   ]
  },
  {
   "cell_type": "code",
   "execution_count": null,
   "metadata": {
    "collapsed": true
   },
   "outputs": [],
   "source": [
    "def sharpen(image):\n",
    "    return None\n",
    "\n"
   ]
  },
  {
   "cell_type": "code",
   "execution_count": null,
   "metadata": {
    "collapsed": true
   },
   "outputs": [],
   "source": [
    "# Test Cases\n",
    "gray_racoon = toGrayScale(racoon)\n",
    "sharpen_racoon = sharpen(gray_racoon)\n",
    "plt.imshow(sharpen_racoon,cmap=\"Greys_r\",vmin=0,vmax=255); plt.title(\"Sharpened\")\n",
    "plt.show()"
   ]
  },
  {
   "cell_type": "markdown",
   "metadata": {},
   "source": [
    "## Function 10: Edge Detection\n",
    "Takes in a grayscale image and returns a corresponding result that shows the gradient magnitude of the input. Use a Sobel kernel. You may afterward scale the result for visibilty if you wish when you demonstrate the function. You can use your general convolution function. You can ignore the edge pixels."
   ]
  },
  {
   "cell_type": "code",
   "execution_count": null,
   "metadata": {
    "collapsed": true
   },
   "outputs": [],
   "source": [
    "def edgeDetect(image):\n",
    "    return None\n",
    "\n"
   ]
  },
  {
   "cell_type": "code",
   "execution_count": null,
   "metadata": {
    "collapsed": true
   },
   "outputs": [],
   "source": [
    "# Test Cases\n",
    "gray_racoon = toGrayScale(racoon)\n",
    "edge_racoon = edgeDetect(gray_racoon)\n",
    "plt.imshow(edge_racoon,cmap=\"Greys_r\",vmin=0,vmax=255); plt.title(\"Edge Detection\")\n",
    "plt.show()"
   ]
  },
  {
   "cell_type": "code",
   "execution_count": null,
   "metadata": {
    "collapsed": true
   },
   "outputs": [],
   "source": []
  }
 ],
 "metadata": {
  "kernelspec": {
   "display_name": "Python 2",
   "language": "python",
   "name": "python2"
  },
  "language_info": {
   "codemirror_mode": {
    "name": "ipython",
    "version": 2
   },
   "file_extension": ".py",
   "mimetype": "text/x-python",
   "name": "python",
   "nbconvert_exporter": "python",
   "pygments_lexer": "ipython2",
   "version": "2.7.13"
  }
 },
 "nbformat": 4,
 "nbformat_minor": 2
}
