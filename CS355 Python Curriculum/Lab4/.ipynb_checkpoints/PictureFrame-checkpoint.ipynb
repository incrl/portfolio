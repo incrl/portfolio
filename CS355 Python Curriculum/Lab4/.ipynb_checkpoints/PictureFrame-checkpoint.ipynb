{
 "cells": [
  {
   "cell_type": "markdown",
   "metadata": {
    "collapsed": true
   },
   "source": [
    "# Image Transformations Lab\n",
    "All  of  the  programming  assignments  are  to  be  done  in  Python  using  additional  libraries  specified  in  the  assignments.  There  are many  libraries  available,  some  of  which  we  will  be  using,  and  you  are  welcome  to  use  them  with  one  exception:  if  the  library  or  a  function  within  it  performs  the  specific  function  you  are  asked  to  code,  you  may  not  use  that  other  than  perhaps  as  a  reference  to  compare  against. All  of  the  code  you  submit  must  be  your  own. You are welcome to turn in a completed jupyter notebook.\n",
    "\n",
    "The following code will load an image you can use for this lab. If needed make sure to install PIL using *pip install PIL* or *conda install PIL*."
   ]
  },
  {
   "cell_type": "code",
   "execution_count": null,
   "metadata": {},
   "outputs": [],
   "source": [
    "import numpy as np\n",
    "import matplotlib.pyplot as plt\n",
    "from PIL import Image\n",
    "\n",
    "#Open the two images\n",
    "filename = \"PictureFrameCollage.png\"\n",
    "frame = Image.open(filename)\n",
    "width, height = frame.size\n",
    "\n",
    "filename2 = \"cat.png\"\n",
    "cat = Image.open(filename2)\n",
    "\n",
    "#Move the cat into the appropriate spot\n",
    "cat = cat.transform((width,height), Image.AFFINE,(1, 0, -619, 0, 1, -434), Image.BICUBIC)\n",
    "\n",
    "#Make mask from cat's location\n",
    "vals = 255.0*(np.asarray(cat) > 0)\n",
    "mask = Image.fromarray(vals).convert(\"1\")\n",
    "\n",
    "#Composite images together\n",
    "result = Image.composite(cat,frame,mask)\n",
    "plt.imshow(result)\n",
    "plt.show()"
   ]
  },
  {
   "cell_type": "markdown",
   "metadata": {
    "collapsed": true
   },
   "source": [
    "Tip: Make sure you are comfortable with how the Affine transform and compositing code works, then try implementing your own general transform function."
   ]
  },
  {
   "cell_type": "code",
   "execution_count": null,
   "metadata": {
    "collapsed": true
   },
   "outputs": [],
   "source": []
  }
 ],
 "metadata": {
  "kernelspec": {
   "display_name": "Python 2",
   "language": "python",
   "name": "python2"
  },
  "language_info": {
   "codemirror_mode": {
    "name": "ipython",
    "version": 2
   },
   "file_extension": ".py",
   "mimetype": "text/x-python",
   "name": "python",
   "nbconvert_exporter": "python",
   "pygments_lexer": "ipython2",
   "version": "2.7.13"
  }
 },
 "nbformat": 4,
 "nbformat_minor": 2
}
