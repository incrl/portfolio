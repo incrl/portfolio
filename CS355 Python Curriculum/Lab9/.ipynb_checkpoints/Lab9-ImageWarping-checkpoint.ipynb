{
 "cells": [
  {
   "cell_type": "markdown",
   "metadata": {},
   "source": [
    "# Image Warping Lab"
   ]
  },
  {
   "cell_type": "markdown",
   "metadata": {},
   "source": [
    "## Part 1: Interpolation\n",
    "\n",
    "Since we are going to be warping images, we need to make sure we have a good interpolation function to deal with inexact pixel locations.\n",
    "\n",
    "In the cell below, we want to scale an image by a factor of 2.30 in both x and y. **Write a function called \"interpolate\" that performs bilateral interpolation.** This function should take in the image and a location (x,y) of interest. It then uses the nearby pixels to that location to interpolate and return an RGB value."
   ]
  },
  {
   "cell_type": "code",
   "execution_count": null,
   "metadata": {},
   "outputs": [],
   "source": [
    "from scipy.ndimage import imread\n",
    "import matplotlib.pyplot as plt\n",
    "import numpy as np\n",
    "from scipy.misc import imsave\n",
    "\n",
    "#Your bilateral interpolation function\n",
    "def interpolate(image, x, y):\n",
    "    \n",
    "    #Your code here\n",
    "    \n",
    "    return None\n",
    "\n",
    "\n",
    "\n",
    "filename = \"test.png\"\n",
    "im = imread(filename)\n",
    "\n",
    "h,w,_ = im.shape\n",
    "\n",
    "result = np.zeros((int(2.3*h),(int(2.3*w)),3), dtype=\"uint8\")\n",
    "\n",
    "result[0:h,0:w,:] = im #Temporary line, you can delete it\n",
    "\n",
    "#Write code that scales the image by a factor of 2.3\n",
    "#It should call interpolate.\n",
    "\n",
    "#Your Code Here\n",
    "\n",
    "\n",
    "        \n",
    "plt.imshow(result,vmin=0)\n",
    "plt.show()"
   ]
  },
  {
   "cell_type": "markdown",
   "metadata": {},
   "source": [
    "## Part 2: Backwards Mapping\n",
    "\n",
    "Now that we have a interpolation function, we need a function that performs a backward mapping between a source and target image.\n",
    "\n",
    "Given a simple rotation transformation, **write a function that performs a backwards mapping. This function should also call your interpolate function.**\n",
    "\n",
    "For this example, the source and target image will be the same size, which means part of your rotated image will be cut off on the corners. You can assume that all pixels need to be backward mapped. Also, **don't forget to invert the transform. This is really easy in numpy.**"
   ]
  },
  {
   "cell_type": "code",
   "execution_count": null,
   "metadata": {},
   "outputs": [],
   "source": [
    "def backmap1(image, transform):\n",
    "    \n",
    "    h,w,_ = im.shape\n",
    "    \n",
    "    result = np.zeros((h,w,3), dtype=\"uint8\")\n",
    "    \n",
    "    #Your Code Here\n",
    "    \n",
    "    return result\n",
    "\n",
    "\n",
    "from math import sin,cos,pi\n",
    "\n",
    "filename = \"test.png\"\n",
    "im = imread(filename)\n",
    "\n",
    "transform = np.matrix([[cos(45 * pi/180), -sin(45 * pi/180), w/2],[sin(45 * pi/180),cos(45 * pi/180),-h/5],[0,0,1]])\n",
    "\n",
    "result = backmap1(im,transform)\n",
    "\n",
    "plt.imshow(result,vmin=0)\n",
    "plt.show()\n"
   ]
  },
  {
   "cell_type": "markdown",
   "metadata": {},
   "source": [
    "## Part 3: Homographies\n",
    "\n",
    "Now that we have the two specific functions that we need, let's start looking at some more interesting image warping. In class, we discussed how we can use homographies to warp images nonlinearly. In this lab, we have provided the homography generating code for you. "
   ]
  },
  {
   "cell_type": "code",
   "execution_count": null,
   "metadata": {
    "collapsed": true
   },
   "outputs": [],
   "source": [
    "class Point():\n",
    "    def __init__(self,x,y):\n",
    "        self.x = x\n",
    "        self.y = y\n",
    "\n",
    "\n",
    "def getHomography(s0,s1,s2,s3,t0,t1,t2,t3):\n",
    "\n",
    "    x0s = s0.x\n",
    "    y0s = s0.y\n",
    "    x0t = t0.x\n",
    "    y0t = t0.y\n",
    "\n",
    "    x1s = s1.x\n",
    "    y1s = s1.y\n",
    "    x1t = t1.x\n",
    "    y1t = t1.y\n",
    "\n",
    "    x2s = s2.x\n",
    "    y2s = s2.y\n",
    "    x2t = t2.x\n",
    "    y2t = t2.y\n",
    "\n",
    "    x3s = s3.x\n",
    "    y3s = s3.y\n",
    "    x3t = t3.x\n",
    "    y3t = t3.y\n",
    "\n",
    "    #Solve for the homography matrix\n",
    "    A = np.matrix([\n",
    "            [x0s, y0s, 1, 0, 0, 0, -x0t*x0s, -x0t*y0s],\n",
    "            [0, 0, 0, x0s, y0s, 1, -y0t*x0s, -y0t*y0s],\n",
    "            [x1s, y1s, 1, 0, 0, 0, -x1t*x1s, -x1t*y1s],\n",
    "            [0, 0, 0, x1s, y1s, 1, -y1t*x1s, -y1t*y1s],\n",
    "            [x2s, y2s, 1, 0, 0, 0, -x2t*x2s, -x2t*y2s],\n",
    "            [0, 0, 0, x2s, y2s, 1, -y2t*x2s, -y2t*y2s],\n",
    "            [x3s, y3s, 1, 0, 0, 0, -x3t*x3s, -x3t*y3s],\n",
    "            [0, 0, 0, x3s, y3s, 1, -y3t*x3s, -y3t*y3s]\n",
    "        ])\n",
    "\n",
    "    b = np.matrix([\n",
    "            [x0t],\n",
    "            [y0t],\n",
    "            [x1t],\n",
    "            [y1t],\n",
    "            [x2t],\n",
    "            [y2t],\n",
    "            [x3t],\n",
    "            [y3t]\n",
    "        ])\n",
    "\n",
    "    #The homorgraphy solutions a-h\n",
    "    solutions = np.linalg.solve(A,b)\n",
    "\n",
    "    solutions = np.append(solutions,[[1.0]], axis=0)\n",
    "\n",
    "    #Reshape the homography into the appropriate 3x3 matrix\n",
    "    homography = np.reshape(solutions, (3,3))\n",
    "    \n",
    "    return homography\n",
    "\n",
    "def getScreen():\n",
    "    result = []\n",
    "    screen = np.loadtxt(\"screen.txt\")\n",
    "    for line in screen:\n",
    "        result.append(Point(int(line[0]), int(line[1])))\n",
    "    return result"
   ]
  },
  {
   "cell_type": "markdown",
   "metadata": {},
   "source": [
    "We want to be able to get a new image into the tv set in the image shown below. Note that not all pixels will need to be backward mapped. For this reason, we also need to specify a list of points that we are considering. This is provided in the getScreen function definined above.\n",
    "\n",
    "**Rewrite your backmap function to allow for two images of different sizes and a specific set of points that need to be mapped.**"
   ]
  },
  {
   "cell_type": "code",
   "execution_count": null,
   "metadata": {},
   "outputs": [],
   "source": [
    "def backmap2(source, target, transform, points):\n",
    "    \n",
    "    #Your code here\n",
    "    \n",
    "    return source\n",
    "\n",
    "\n",
    "\n",
    "filename = \"test.png\"\n",
    "im = imread(filename)\n",
    "\n",
    "h,w,_ = im.shape\n",
    "        \n",
    "s0 = Point(0,0)\n",
    "s1 = Point(w-1,0)\n",
    "s2 = Point(w-1,h-1)\n",
    "s3 = Point(0,h-1)\n",
    "\n",
    "t0 = Point(245,152)\n",
    "t1 = Point(349,150)\n",
    "t2 = Point(349,253)\n",
    "t3 = Point(246,261)\n",
    "\n",
    "tv = imread('tv.jpg')\n",
    "plt.imshow(tv,vmin=0)\n",
    "plt.show()\n",
    "\n",
    "transform = getHomography(s0,s1,s2,s3,t0,t1,t2,t3)\n",
    "\n",
    "screen = getScreen()\n",
    "\n",
    "result = backmap2(im, tv, transform, screen)\n",
    "\n",
    "plt.imshow(result,vmin=0)\n",
    "plt.show()\n"
   ]
  },
  {
   "cell_type": "markdown",
   "metadata": {
    "collapsed": true
   },
   "source": [
    "## Part 4: Geometric Tests\n",
    "\n",
    "We have a pretty robust warping algorithm now, but we need a way of determining which pixels are of interest and which pixels are not of interest on our target image.\n",
    "\n",
    "Notice in the image below that we were able to replace the nearest canvas with a picture of BYU campus. We did so by finding the corners of the canvas, determining points that lie inside that canvas, and then using a homography as our transform for the backward mapping. We left a blank canvas for you to try this out as well. \n",
    "\n",
    "**Rewrite your backmap function (yet again) to take in the corners of interest, perform a homography, and include a pixel tester that makes a bounding box around the area of interest, then uses cross product geometric testing to verify if a pixel is on the canvas** (we acknowledge there are other ways you could solve this problem, but this is good practice).\n"
   ]
  },
  {
   "cell_type": "code",
   "execution_count": null,
   "metadata": {},
   "outputs": [],
   "source": [
    "def getCanvas(t0, t1, t2, t3):\n",
    "    canvas = []\n",
    "\n",
    "    #Your code here\n",
    "    \n",
    "    return canvas\n",
    "\n",
    "\n",
    "def backmap3(source,target,s0,s1,s2,s3,t0,t1,t2,t3):\n",
    "    \n",
    "    transform = getHomography(s0,s1,s2,s3,t0,t1,t2,t3)\n",
    "\n",
    "    #Your code here\n",
    "    \n",
    "    return source\n",
    "    \n",
    "\n",
    "museum = imread('museum.png')\n",
    "plt.imshow(museum,vmin=0)\n",
    "plt.show()\n",
    "\n",
    "filename = \"test.png\"\n",
    "im = imread(filename)\n",
    "\n",
    "h,w,_ = im.shape\n",
    "        \n",
    "s0 = Point(0,0)\n",
    "s1 = Point(w-1,0)\n",
    "s2 = Point(w-1,h-1)\n",
    "s3 = Point(0,h-1)\n",
    "\n",
    "t0 = Point(268,230)\n",
    "t1 = Point(349,249)\n",
    "t2 = Point(347,361)\n",
    "t3 = Point(267,363)\n",
    "\n",
    "result = backmap3(im,museum,s0,s1,s2,s3,t0,t1,t2,t3)\n",
    "    \n",
    "plt.imshow(result,vmin=0)\n",
    "plt.show()\n"
   ]
  },
  {
   "cell_type": "code",
   "execution_count": null,
   "metadata": {
    "collapsed": true
   },
   "outputs": [],
   "source": []
  },
  {
   "cell_type": "code",
   "execution_count": null,
   "metadata": {
    "collapsed": true
   },
   "outputs": [],
   "source": []
  }
 ],
 "metadata": {
  "kernelspec": {
   "display_name": "Python 3",
   "language": "python",
   "name": "python3"
  },
  "language_info": {
   "codemirror_mode": {
    "name": "ipython",
    "version": 3
   },
   "file_extension": ".py",
   "mimetype": "text/x-python",
   "name": "python",
   "nbconvert_exporter": "python",
   "pygments_lexer": "ipython3",
   "version": "3.6.2"
  }
 },
 "nbformat": 4,
 "nbformat_minor": 2
}
